{
 "cells": [
  {
   "cell_type": "markdown",
   "metadata": {},
   "source": [
    "# Fake News Detection - Model Training Notebook"
   ]
  },
  {
   "cell_type": "code",
   "execution_count": null,
   "metadata": {},
   "outputs": [],
   "source": [
    "import pandas as pd
",
    "from sklearn.model_selection import train_test_split
",
    "from sklearn.feature_extraction.text import TfidfVectorizer
",
    "from sklearn.linear_model import LogisticRegression
",
    "from sklearn.metrics import accuracy_score, classification_report
",
    "import joblib
",
    "
",
    "# Load data
",
    "df = pd.read_csv('/content/train.csv')  # Change path if needed
",
    "df = df[['text', 'label']].dropna()
",
    "
",
    "# TF-IDF Vectorization
",
    "vectorizer = TfidfVectorizer(stop_words='english', max_df=0.7)
",
    "X = vectorizer.fit_transform(df['text'])
",
    "y = df['label']
",
    "
",
    "# Train/test split
",
    "X_train, X_test, y_train, y_test = train_test_split(X, y, test_size=0.2, random_state=42)
",
    "
",
    "# Model
",
    "model = LogisticRegression(max_iter=1000)
",
    "model.fit(X_train, y_train)
",
    "
",
    "# Evaluation
",
    "pred = model.predict(X_test)
",
    "print("Accuracy:", accuracy_score(y_test, pred))
",
    "print(classification_report(y_test, pred))
",
    "
",
    "# Save model and vectorizer
",
    "joblib.dump(model, '/content/fake_news_model.pkl')
",
    "joblib.dump(vectorizer, '/content/tfidf_vectorizer.pkl')"
   ]
  }
 ],
 "metadata": {
  "kernelspec": {
   "display_name": "Python 3",
   "language": "python",
   "name": "python3"
  },
  "language_info": {
   "name": "python",
   "version": "3.x"
  }
 },
 "nbformat": 4,
 "nbformat_minor": 4
}